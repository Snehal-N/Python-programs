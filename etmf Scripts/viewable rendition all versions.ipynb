{
 "cells": [
  {
   "cell_type": "code",
   "execution_count": 2,
   "metadata": {},
   "outputs": [
    {
     "name": "stderr",
     "output_type": "stream",
     "text": [
      "\r",
      "  0%|                                                                                           | 0/13 [00:00<?, ?it/s]"
     ]
    },
    {
     "name": "stdout",
     "output_type": "stream",
     "text": [
      "7CFC2319C6DCC67EFEEC5E5DBBDD80A0BC61E80ABEF4B76BA2BAD7F744072EF583BFC35668B7E43A8AD155E93369F98D69D1E7FC8D78E63886E01CF4225B11BE\n",
      "https://amgensbx-etmf.veevavault.com/api/v20.3/objects/documents/4480661/versions/1/0/renditions/viewable_rendition__v\n"
     ]
    },
    {
     "name": "stderr",
     "output_type": "stream",
     "text": [
      "\r",
      "  8%|██████▍                                                                            | 1/13 [00:00<00:03,  3.61it/s]"
     ]
    },
    {
     "name": "stdout",
     "output_type": "stream",
     "text": [
      "https://amgensbx-etmf.veevavault.com/api/v20.3/objects/documents/4480660/versions/1/0/renditions/viewable_rendition__v\n"
     ]
    },
    {
     "name": "stderr",
     "output_type": "stream",
     "text": [
      "\r",
      " 15%|████████████▊                                                                      | 2/13 [00:00<00:02,  3.70it/s]"
     ]
    },
    {
     "name": "stdout",
     "output_type": "stream",
     "text": [
      "https://amgensbx-etmf.veevavault.com/api/v20.3/objects/documents/4480659/versions/1/0/renditions/viewable_rendition__v\n"
     ]
    },
    {
     "name": "stderr",
     "output_type": "stream",
     "text": [
      "\r",
      " 23%|███████████████████▏                                                               | 3/13 [00:00<00:02,  3.83it/s]"
     ]
    },
    {
     "name": "stdout",
     "output_type": "stream",
     "text": [
      "https://amgensbx-etmf.veevavault.com/api/v20.3/objects/documents/4480658/versions/1/0/renditions/viewable_rendition__v\n"
     ]
    },
    {
     "name": "stderr",
     "output_type": "stream",
     "text": [
      "\r",
      " 31%|█████████████████████████▌                                                         | 4/13 [00:00<00:02,  3.98it/s]"
     ]
    },
    {
     "name": "stdout",
     "output_type": "stream",
     "text": [
      "https://amgensbx-etmf.veevavault.com/api/v20.3/objects/documents/4480657/versions/1/0/renditions/viewable_rendition__v\n"
     ]
    },
    {
     "name": "stderr",
     "output_type": "stream",
     "text": [
      "\r",
      " 38%|███████████████████████████████▉                                                   | 5/13 [00:01<00:01,  4.04it/s]"
     ]
    },
    {
     "name": "stdout",
     "output_type": "stream",
     "text": [
      "https://amgensbx-etmf.veevavault.com/api/v20.3/objects/documents/4480656/versions/1/0/renditions/viewable_rendition__v\n"
     ]
    },
    {
     "name": "stderr",
     "output_type": "stream",
     "text": [
      "\r",
      " 46%|██████████████████████████████████████▎                                            | 6/13 [00:01<00:01,  4.10it/s]"
     ]
    },
    {
     "name": "stdout",
     "output_type": "stream",
     "text": [
      "https://amgensbx-etmf.veevavault.com/api/v20.3/objects/documents/4480655/versions/1/0/renditions/viewable_rendition__v\n"
     ]
    },
    {
     "name": "stderr",
     "output_type": "stream",
     "text": [
      "\r",
      " 54%|████████████████████████████████████████████▋                                      | 7/13 [00:01<00:01,  4.18it/s]"
     ]
    },
    {
     "name": "stdout",
     "output_type": "stream",
     "text": [
      "https://amgensbx-etmf.veevavault.com/api/v20.3/objects/documents/4480654/versions/1/0/renditions/viewable_rendition__v\n"
     ]
    },
    {
     "name": "stderr",
     "output_type": "stream",
     "text": [
      "\r",
      " 62%|███████████████████████████████████████████████████                                | 8/13 [00:01<00:01,  4.21it/s]"
     ]
    },
    {
     "name": "stdout",
     "output_type": "stream",
     "text": [
      "https://amgensbx-etmf.veevavault.com/api/v20.3/objects/documents/9245763/versions/1/0/renditions/viewable_rendition__v\n"
     ]
    },
    {
     "name": "stderr",
     "output_type": "stream",
     "text": [
      "\r",
      " 69%|█████████████████████████████████████████████████████████▍                         | 9/13 [00:02<00:01,  2.30it/s]"
     ]
    },
    {
     "name": "stdout",
     "output_type": "stream",
     "text": [
      "https://amgensbx-etmf.veevavault.com/api/v20.3/objects/documents/9245762/versions/1/0/renditions/viewable_rendition__v\n"
     ]
    },
    {
     "name": "stderr",
     "output_type": "stream",
     "text": [
      "\r",
      " 77%|███████████████████████████████████████████████████████████████                   | 10/13 [00:03<00:01,  2.03it/s]"
     ]
    },
    {
     "name": "stdout",
     "output_type": "stream",
     "text": [
      "https://amgensbx-etmf.veevavault.com/api/v20.3/objects/documents/9245778/versions/1/0/renditions/viewable_rendition__v\n"
     ]
    },
    {
     "name": "stderr",
     "output_type": "stream",
     "text": [
      "\r",
      " 85%|█████████████████████████████████████████████████████████████████████▍            | 11/13 [00:03<00:01,  1.99it/s]"
     ]
    },
    {
     "name": "stdout",
     "output_type": "stream",
     "text": [
      "https://amgensbx-etmf.veevavault.com/api/v20.3/objects/documents/9245778/versions/2/0/renditions/viewable_rendition__v\n"
     ]
    },
    {
     "name": "stderr",
     "output_type": "stream",
     "text": [
      "\r",
      " 92%|███████████████████████████████████████████████████████████████████████████▋      | 12/13 [00:04<00:00,  1.79it/s]"
     ]
    },
    {
     "name": "stdout",
     "output_type": "stream",
     "text": [
      "https://amgensbx-etmf.veevavault.com/api/v20.3/objects/documents/9245778/versions/3/0/renditions/viewable_rendition__v\n"
     ]
    },
    {
     "name": "stderr",
     "output_type": "stream",
     "text": [
      "100%|██████████████████████████████████████████████████████████████████████████████████| 13/13 [00:05<00:00,  2.43it/s]\n"
     ]
    }
   ],
   "source": [
    "import csv\n",
    "import os\n",
    "import requests\n",
    "import json\n",
    "import time\n",
    "import io\n",
    "import datetime;\n",
    "import pandas as pd\n",
    "from tqdm import tqdm\n",
    "import magic\n",
    "\n",
    "os.chdir(r\"D:\\Users\\snangare\\Sandesh\\API\")\n",
    "file_object = open('logs/viewable_rendition/viewable_renditions_log.txt', 'a')\n",
    "\n",
    "\n",
    "def authenticate():\n",
    "    \n",
    "    endpoint = 'https://amgensbx-etmf.veevavault.com/api/v20.3/auth' \n",
    "    parameters = {\n",
    "        'username':'snangare@amgensbx.com',\n",
    "        'password':'Test@54321'\n",
    "    }\n",
    "    \n",
    "    try: \n",
    "        response = requests.post(endpoint, data=parameters).json()\n",
    "        if response['responseStatus'] != 'SUCCESS':\n",
    "            raise Exception()\n",
    "        else:\n",
    "            return response['sessionId']\n",
    "    except:\n",
    "        error_message = response['errorType'] + ', Reason: ' + response['responseMessage']\n",
    "        print (error_message)\n",
    "        \n",
    "def fetch_documents(session_id,endpoint,doc_name,major_version,minor_version,doc_id):\n",
    "    \n",
    "    headers = {\n",
    "        'Authorization': session_id\n",
    "    }\n",
    "    \n",
    "    response = requests.get(endpoint, headers=headers)\n",
    "    \n",
    "    file= doc_name+'_'+ doc_id +'_'+ major_version+'_'+ minor_version+'_'+'viewable_renditions'\n",
    "    \n",
    "    try :\n",
    "        if response.json():\n",
    "            \n",
    "            response = response.json()\n",
    "            \n",
    "            if response['responseStatus'] != 'SUCCESS':\n",
    "                file_object.write(file+\" was not available for export at \"+str(datetime.datetime.now())+\" IST\")\n",
    "                file_object.write('\\n')\n",
    "            else:\n",
    "                file_object.write(\"Something went wrong with \"+file[:file.index('viewable')-1]+\".pdf\")\n",
    "                file_object.write('\\n')\n",
    "    except:\n",
    "        file = file + '.pdf'\n",
    "        with open(file, 'wb') as f:\n",
    "            f.write(response.content)   \n",
    "\n",
    "        file_object.write(file+\" exported successfully at \"+str(datetime.datetime.now())+\" IST\")\n",
    "        file_object.write('\\n') \n",
    "        \n",
    "def execute():\n",
    "    session_id = authenticate()\n",
    "    \n",
    "    df = pd.read_csv('document_ids.csv')\n",
    "    os.chdir(\"exports/viewable_renditions\")\n",
    "    \n",
    "    try:\n",
    "        \n",
    "        for ind in tqdm(df.index): \n",
    "            doc_id = str(df['Document ID'][ind])\n",
    "            doc_name = str(df['Document Number'][ind])\n",
    "            major_version = str(df['Major Version Number'][ind])\n",
    "            minor_version = str(df['Minor Version Number'][ind])\n",
    "\n",
    "            URI = 'https://amgensbx-etmf.veevavault.com/api/v20.3/'\n",
    "            action = 'objects/documents/'+str(doc_id)+'/versions/'+major_version+'/'+minor_version+'/renditions/viewable_rendition__v'\n",
    "            endpoint = URI + action\n",
    "            fetch_documents(session_id,endpoint,doc_name,major_version,minor_version,doc_id)\n",
    "    finally :\n",
    "        \n",
    "        file_object.close()\n",
    "    \n",
    "execute()  "
   ]
  },
  {
   "cell_type": "code",
   "execution_count": null,
   "metadata": {},
   "outputs": [],
   "source": []
  }
 ],
 "metadata": {
  "kernelspec": {
   "display_name": "Python 3",
   "language": "python",
   "name": "python3"
  },
  "language_info": {
   "codemirror_mode": {
    "name": "ipython",
    "version": 3
   },
   "file_extension": ".py",
   "mimetype": "text/x-python",
   "name": "python",
   "nbconvert_exporter": "python",
   "pygments_lexer": "ipython3",
   "version": "3.7.6"
  }
 },
 "nbformat": 4,
 "nbformat_minor": 4
}
